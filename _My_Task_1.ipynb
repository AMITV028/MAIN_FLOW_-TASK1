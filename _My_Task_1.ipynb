{
 "cells": [
  {
   "cell_type": "code",
   "execution_count": null,
   "id": "85ffb802-6588-4ae4-b8cf-8edfc6d824af",
   "metadata": {},
   "outputs": [],
   "source": [
    "\"\"\" DATA ANALYTICS WITH PYTHON TASK 1\n",
    "to perform basic operations on LIST,DICTIONARY and SET \"\"\""
   ]
  },
  {
   "cell_type": "code",
   "execution_count": 2,
   "id": "a2d76bc8-980e-4193-ad15-96b492a0a8fe",
   "metadata": {},
   "outputs": [],
   "source": [
    "# CREATING A LIST \n",
    "My_List = [ 1,2,3,4,5,6]"
   ]
  },
  {
   "cell_type": "code",
   "execution_count": 3,
   "id": "cfed7cac-1a13-44fb-bc8e-b7e8b1764305",
   "metadata": {},
   "outputs": [
    {
     "name": "stdout",
     "output_type": "stream",
     "text": [
      "[1, 2, 3, 4, 5, 6]\n"
     ]
    }
   ],
   "source": [
    "print(My_List)"
   ]
  },
  {
   "cell_type": "code",
   "execution_count": 4,
   "id": "3aa263fb-6788-468a-b005-c9bb34c68aaa",
   "metadata": {},
   "outputs": [],
   "source": [
    "# ADDING ELEMENT FROM LIST\n",
    "My_List.append(7)"
   ]
  },
  {
   "cell_type": "code",
   "execution_count": 5,
   "id": "9ffe7217-2cc8-4c2b-bb9d-b7719138bdaf",
   "metadata": {},
   "outputs": [
    {
     "name": "stdout",
     "output_type": "stream",
     "text": [
      "[1, 2, 3, 4, 5, 6, 7]\n"
     ]
    }
   ],
   "source": [
    "print(My_List)"
   ]
  },
  {
   "cell_type": "code",
   "execution_count": 6,
   "id": "00f875d1-91a7-497b-9ea0-7d8a6ca1aff8",
   "metadata": {},
   "outputs": [],
   "source": [
    "# DELETING ELEMENT TO LIST\n",
    "My_List.remove(7)"
   ]
  },
  {
   "cell_type": "code",
   "execution_count": 7,
   "id": "e6ebb9f9-2e68-44a3-8521-c304d5234ab7",
   "metadata": {},
   "outputs": [
    {
     "name": "stdout",
     "output_type": "stream",
     "text": [
      "[1, 2, 3, 4, 5, 6]\n"
     ]
    }
   ],
   "source": [
    "print(My_List)"
   ]
  },
  {
   "cell_type": "code",
   "execution_count": 26,
   "id": "f88848fb-f711-4b2a-91cb-b0a42a8f763d",
   "metadata": {
    "scrolled": true
   },
   "outputs": [],
   "source": [
    "# MODIFYING THE LIST \n",
    "My_List.remove(1)\n",
    "My_List.insert(0,15)"
   ]
  },
  {
   "cell_type": "code",
   "execution_count": 27,
   "id": "0c04df85-0227-49a1-a1f2-d669e6bee77e",
   "metadata": {},
   "outputs": [
    {
     "name": "stdout",
     "output_type": "stream",
     "text": [
      "[15, 2, 3, 4, 5, 6]\n"
     ]
    }
   ],
   "source": [
    "print(My_List)"
   ]
  },
  {
   "cell_type": "code",
   "execution_count": 28,
   "id": "e4e0a024-b4b2-4a4c-a105-b33daa652a13",
   "metadata": {},
   "outputs": [],
   "source": [
    "#MODIFYING THE LIST ELEMENTS\n",
    "My_List[1]= 15"
   ]
  },
  {
   "cell_type": "code",
   "execution_count": 30,
   "id": "fd34fa58-af2f-421f-8890-dccc169e3197",
   "metadata": {},
   "outputs": [
    {
     "name": "stdout",
     "output_type": "stream",
     "text": [
      "[15, 15, 3, 4, 5, 6]\n"
     ]
    }
   ],
   "source": [
    "print(My_List)"
   ]
  },
  {
   "cell_type": "code",
   "execution_count": 31,
   "id": "083a8f94-54d6-423b-9d9f-7a3b96e148c9",
   "metadata": {},
   "outputs": [],
   "source": [
    "# CREATING A DICTIONARY\n",
    "My_Dy = { 'First_Name':'Amit','middle_Name':'kumar', 'Designation':'Data_Analsys_intern','Gender':'Male', 'City':'Bhopal' } "
   ]
  },
  {
   "cell_type": "code",
   "execution_count": 32,
   "id": "fb9d6c05-4279-40fc-b877-529d360d451f",
   "metadata": {},
   "outputs": [
    {
     "name": "stdout",
     "output_type": "stream",
     "text": [
      "{'First_Name': 'Amit', 'middle_Name': 'kumar', 'Designation': 'Data_Analsys_intern', 'Gender': 'Male', 'City': 'Bhopal'}\n"
     ]
    }
   ],
   "source": [
    "print(My_Dy)"
   ]
  },
  {
   "cell_type": "code",
   "execution_count": 39,
   "id": "828b9c7d-fc76-4192-9812-e348b43e2f7f",
   "metadata": {},
   "outputs": [],
   "source": [
    "# ADDING ELEMENTS TO DICTIONARY\n",
    "My_Dy['Age'] ='male'"
   ]
  },
  {
   "cell_type": "code",
   "execution_count": 40,
   "id": "fea0939d-e019-4bc1-a099-98446272a77a",
   "metadata": {},
   "outputs": [
    {
     "name": "stdout",
     "output_type": "stream",
     "text": [
      "{'First_Name': 'Amit', 'middle_Name': 'kumar', 'Designation': 'Data_Analsys_intern', 'Gender': 'Male', 'City': 'Bhopal', 'Age': 'male'}\n"
     ]
    }
   ],
   "source": [
    "print(My_Dy)"
   ]
  },
  {
   "cell_type": "code",
   "execution_count": 41,
   "id": "8693f8e6-937d-4076-8bf5-fa76253277e2",
   "metadata": {},
   "outputs": [],
   "source": [
    "# DELETING ELEMENTS FROM DICTIONARY\n",
    "del My_Dy['middle_Name'] "
   ]
  },
  {
   "cell_type": "code",
   "execution_count": 45,
   "id": "af19f6c3-a0d7-4dc8-831b-8076171bcb68",
   "metadata": {},
   "outputs": [
    {
     "name": "stdout",
     "output_type": "stream",
     "text": [
      "{'First_Name': 'Amit', 'Designation': 'Data_Analsys_intern', 'Gender': 'Male', 'City': 'Bhopal', 'Age': 'male'}\n"
     ]
    }
   ],
   "source": [
    "print(My_Dy)"
   ]
  },
  {
   "cell_type": "code",
   "execution_count": 52,
   "id": "b55e1ee9-c069-450e-997a-ee973fed0754",
   "metadata": {},
   "outputs": [],
   "source": [
    "# MODIFYING ELEMENTS FROM DICTIONARY\n",
    "My_Dy[\"Age\"] = 25"
   ]
  },
  {
   "cell_type": "code",
   "execution_count": 53,
   "id": "ed0f215f-7069-4746-afe9-4431e4d9174f",
   "metadata": {},
   "outputs": [
    {
     "name": "stdout",
     "output_type": "stream",
     "text": [
      "{'First_Name': 'Amit', 'Designation': 'Data_Analsys_intern', 'Gender': 'Male', 'City': 'Bhopal', 'Age': 25}\n"
     ]
    }
   ],
   "source": [
    "print(My_Dy)"
   ]
  },
  {
   "cell_type": "code",
   "execution_count": 2,
   "id": "1b16c286-33db-42b7-979c-2d147636709c",
   "metadata": {},
   "outputs": [
    {
     "name": "stdout",
     "output_type": "stream",
     "text": [
      "{1, 2, 3}\n"
     ]
    }
   ],
   "source": [
    "# CREATING A SET\n",
    "my_set = {1, 2, 3}\n",
    "print(my_set) "
   ]
  },
  {
   "cell_type": "code",
   "execution_count": 3,
   "id": "52661598-6286-496a-8c72-f8fb71e5ea6c",
   "metadata": {},
   "outputs": [],
   "source": [
    "# ADDING ELEMENT TO SET\n",
    "my_set.add(4)"
   ]
  },
  {
   "cell_type": "code",
   "execution_count": 4,
   "id": "00770fa5-2fd4-44be-93e3-3b8588197d57",
   "metadata": {},
   "outputs": [
    {
     "name": "stdout",
     "output_type": "stream",
     "text": [
      "{1, 2, 3, 4}\n"
     ]
    }
   ],
   "source": [
    "print(my_set)"
   ]
  },
  {
   "cell_type": "code",
   "execution_count": 5,
   "id": "b7583d56-70fd-484e-b999-d005915ea647",
   "metadata": {},
   "outputs": [],
   "source": [
    "# REMOVING ELEMENT FROM SET\n",
    "my_set.remove(4)"
   ]
  },
  {
   "cell_type": "code",
   "execution_count": 6,
   "id": "dd54e554-71db-4bed-abb6-d81076e9bb77",
   "metadata": {},
   "outputs": [
    {
     "name": "stdout",
     "output_type": "stream",
     "text": [
      "{1, 2, 3}\n"
     ]
    }
   ],
   "source": [
    "print(my_set)"
   ]
  },
  {
   "cell_type": "code",
   "execution_count": 7,
   "id": "a912826e-8ca2-43f5-bd52-013745ccdeab",
   "metadata": {},
   "outputs": [
    {
     "name": "stdout",
     "output_type": "stream",
     "text": [
      "{0, 2, 3}\n"
     ]
    }
   ],
   "source": [
    "# MODIFYING A SET\n",
    "my_set.discard(1)\n",
    "my_set.add(0)\n",
    "print(my_set)"
   ]
  },
  {
   "cell_type": "code",
   "execution_count": null,
   "id": "3237124c-1cea-4864-a494-05b0de26c849",
   "metadata": {},
   "outputs": [],
   "source": [
    "# HERE TASK 1 GETS COMPLETED"
   ]
  }
 ],
 "metadata": {
  "kernelspec": {
   "display_name": "Python 3 (ipykernel)",
   "language": "python",
   "name": "python3"
  },
  "language_info": {
   "codemirror_mode": {
    "name": "ipython",
    "version": 3
   },
   "file_extension": ".py",
   "mimetype": "text/x-python",
   "name": "python",
   "nbconvert_exporter": "python",
   "pygments_lexer": "ipython3",
   "version": "3.11.7"
  }
 },
 "nbformat": 4,
 "nbformat_minor": 5
}
